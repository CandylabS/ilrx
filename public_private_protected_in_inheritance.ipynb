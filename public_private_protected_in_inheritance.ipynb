{
 "cells": [
  {
   "cell_type": "code",
   "execution_count": 13,
   "metadata": {
    "collapsed": false
   },
   "outputs": [
    {
     "name": "stdout",
     "output_type": "stream",
     "text": [
      "Class A public method\n",
      "Class A protected method\n",
      "Class A private method\n",
      "Class A protected method\n"
     ]
    }
   ],
   "source": [
    "class A\n",
    "  def public_method\n",
    "    puts \"Class A public method\"\n",
    "  end\n",
    "  \n",
    "  private\n",
    "  def private_method\n",
    "    puts \"Class A private method\"\n",
    "  end\n",
    "  \n",
    "  protected\n",
    "  def protected_method\n",
    "    puts \"Class A protected method\"\n",
    "  end\n",
    "end\n",
    "\n",
    "class B < A\n",
    "  def get_class_a_protected_method\n",
    "    protected_method # implicit call\n",
    "  end\n",
    "  \n",
    "  def get_class_a_private_method\n",
    "    private_method # implicit call\n",
    "  end\n",
    "end\n",
    "\n",
    "class C < A\n",
    "  def get_class_a_protected_method\n",
    "    self.protected_method # explicit call\n",
    "  end\n",
    "  \n",
    "  def get_class_a_private_method\n",
    "    self.private_method # explicit call\n",
    "  end\n",
    "end\n",
    "\n",
    "a = A.new\n",
    "a.public_method\n",
    "# a.protected_method\n",
    "# a.protected_method\n",
    "b = B.new\n",
    "b.get_class_a_protected_method\n",
    "b.get_class_a_private_method\n",
    "c = C.new\n",
    "c.get_class_a_protected_method\n",
    "# c.get_class_a_private_method"
   ]
  },
  {
   "cell_type": "code",
   "execution_count": 16,
   "metadata": {
    "collapsed": false
   },
   "outputs": [
    {
     "name": "stdout",
     "output_type": "stream",
     "text": [
      "I know your secret!\n"
     ]
    },
    {
     "data": {
      "text/plain": [
       "\"I know your secret!\""
      ]
     },
     "execution_count": 16,
     "metadata": {},
     "output_type": "execute_result"
    }
   ],
   "source": [
    "class Parent\n",
    "  private\n",
    "  # we have a attribute writer private method\n",
    "  def private_method= some_val\n",
    "    puts some_val\n",
    "  end\n",
    "end\n",
    "\n",
    "class Child < Parent\n",
    "  def set_some_val\n",
    "    self.private_method = \"I know your secret!\" \n",
    "  end\n",
    "end\n",
    "\n",
    "Child.new.set_some_val"
   ]
  }
 ],
 "metadata": {
  "anaconda-cloud": {},
  "kernelspec": {
   "display_name": "Ruby 2.3.1",
   "language": "ruby",
   "name": "ruby"
  },
  "language_info": {
   "file_extension": ".rb",
   "mimetype": "application/x-ruby",
   "name": "ruby",
   "version": "2.3.1"
  }
 },
 "nbformat": 4,
 "nbformat_minor": 0
}
